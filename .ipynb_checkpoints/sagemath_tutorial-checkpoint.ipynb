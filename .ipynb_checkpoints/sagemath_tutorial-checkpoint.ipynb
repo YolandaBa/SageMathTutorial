{
 "cells": [
  {
   "cell_type": "markdown",
   "id": "75d913d7",
   "metadata": {},
   "source": [
    "# 📘 SageMath Tutorial\n",
    "\n",
    "This Jupyter notebook follows the numbered sections of the concise SageMath cheat‑sheet. Execute the code cells to see Sage in action!"
   ]
  },
  {
   "cell_type": "markdown",
   "id": "4cf876ee",
   "metadata": {},
   "source": [
    "## 1 ✏️ Assignment & Exact Arithmetic\n",
    "\n",
    "Below are quick examples of assignment, exact fractions, floats, and built‑in constants."
   ]
  },
  {
   "cell_type": "code",
   "execution_count": null,
   "id": "3f4b1862",
   "metadata": {},
   "outputs": [],
   "source": [
    "a = 5        # assignment\n",
    "a == 5       # equality test\n",
    "\n",
    "_            # last result held in underscore\n",
    "\n",
    "1/3          # exact rational\n",
    "1/3.0        # float\n",
    "\n",
    "2^10, 2**10  # exponentiation\n",
    "\n",
    "pi.n(20), e^pi, I^2"
   ]
  },
  {
   "cell_type": "markdown",
   "id": "3c55b981",
   "metadata": {},
   "source": [
    "## 2 ➕ Basic Arithmetic Operators"
   ]
  },
  {
   "cell_type": "code",
   "execution_count": null,
   "id": "ee04c216",
   "metadata": {},
   "outputs": [],
   "source": [
    "2 + 3, 7 - 4, 6 * 8, 7/2, 7//2, 3^4, 17 % 5"
   ]
  },
  {
   "cell_type": "markdown",
   "id": "c1172647",
   "metadata": {},
   "source": [
    "### 3.1 Declare Symbols"
   ]
  },
  {
   "cell_type": "markdown",
   "id": "53a8b2fb",
   "metadata": {},
   "source": [
    "- `=` assigns a value/expression to a variable.\n",
    "- `var('x y')` declares symbolic variables `x`, `y`.\n",
    "- `function('f')` creates a symbolic function.\n",
    "- `show(expr)` pretty‑prints an expression."
   ]
  },
  {
   "cell_type": "code",
   "execution_count": null,
   "id": "fb58b277",
   "metadata": {},
   "outputs": [],
   "source": [
    "# Projectile example\n",
    "t, v0, g = var('t v0 g')\n",
    "h = v0*t - (g/2)*t^2\n",
    "show(h)\n",
    "\n",
    "# Substitute numbers\n",
    "h_sub = h.subs({v0: 20, g: 9.8})\n",
    "h_sub"
   ]
  },
  {
   "cell_type": "markdown",
   "id": "ee9e4fad",
   "metadata": {},
   "source": [
    "### 3.2 Manipulate Expressions"
   ]
  },
  {
   "cell_type": "code",
   "execution_count": null,
   "id": "84bd4759",
   "metadata": {},
   "outputs": [],
   "source": [
    "x = var('x')\n",
    "expr = (x + 1)^3\n",
    "expr_expanded = expr.expand()\n",
    "expr_factored = (x^3 - 1).factor()\n",
    "expr_simplified = (sin(x)^2 + cos(x)^2).simplify()\n",
    "expr_sub = (x^2 + 1).subs(x=2)\n",
    "expr_num = (sin(x)/x).subs(x=0.1).n()\n",
    "\n",
    "expr_expanded, expr_factored, expr_simplified, expr_sub, expr_num"
   ]
  },
  {
   "cell_type": "markdown",
   "id": "68298cf7",
   "metadata": {},
   "source": [
    "### 3.3 Solving Equations — Exact vs Numerical"
   ]
  },
  {
   "cell_type": "code",
   "execution_count": null,
   "id": "c39b4feb",
   "metadata": {},
   "outputs": [],
   "source": [
    "x, y = var('x y')\n",
    "exact = solve(x^2 + 3*x + 2 == 0, x)\n",
    "linear = solve([x + y == 6, x - y == 4], x, y)\n",
    "\n",
    "f = sin(x) - x/2\n",
    "root = find_root(f, 1, 2)\n",
    "numeric_roots = (x^3 - 2*x - 5).nroots()\n",
    "\n",
    "exact, linear, root, numeric_roots"
   ]
  },
  {
   "cell_type": "markdown",
   "id": "f2576374",
   "metadata": {},
   "source": [
    "### 3.4 Calculus — Differentiation & Integration"
   ]
  },
  {
   "cell_type": "code",
   "execution_count": null,
   "id": "868a927a",
   "metadata": {},
   "outputs": [],
   "source": [
    "x = var('x')\n",
    "f = (sin(x) + x^2) * e^x\n",
    "f1 = diff(f, x)\n",
    "f2 = diff(f, x, 2)\n",
    "\n",
    "I1 = integrate(cos(x)^2, x)\n",
    "I2 = integrate(1/(1 + x^4), x)\n",
    "\n",
    "D1 = integrate(sin(x)^2, (x, 0, pi))\n",
    "gauss = integrate(exp(-x^2), (x, -oo, oo))\n",
    "\n",
    "numeric_val = N(integrate(sin(x)/x, (x, 0, 1)))\n",
    "f_prime_at1 = N(diff(f, x).subs(x=1))\n",
    "\n",
    "[f1, f2, I1, I2, D1, gauss, numeric_val, f_prime_at1]"
   ]
  },
  {
   "cell_type": "markdown",
   "id": "7e0f606f",
   "metadata": {},
   "source": [
    "### 3.5 Solving Differential Equations"
   ]
  },
  {
   "cell_type": "markdown",
   "id": "e8900573",
   "metadata": {},
   "source": [
    "#### 3.5.1 Symbolic Solution"
   ]
  },
  {
   "cell_type": "code",
   "execution_count": null,
   "id": "a30ad590",
   "metadata": {},
   "outputs": [],
   "source": [
    "t = var('t')\n",
    "y = function('y')(t)\n",
    "\n",
    "sym1 = desolve(diff(y, t) == y - t, y)\n",
    "sym2 = desolve(diff(y, t, 2) + y == 0, y, ics=[0,1,0])\n",
    "sym1, sym2"
   ]
  },
  {
   "cell_type": "markdown",
   "id": "605806bc",
   "metadata": {},
   "source": [
    "#### 3.5.2 Laplace Transform Method"
   ]
  },
  {
   "cell_type": "code",
   "execution_count": null,
   "id": "408b0a28",
   "metadata": {},
   "outputs": [],
   "source": [
    "t = var('t')\n",
    "y = function('y')(t)\n",
    "lap_sol = desolve_laplace(diff(y, t, 2) + y == sin(t), y, ics=[0,0,1])\n",
    "lap_sol"
   ]
  },
  {
   "cell_type": "markdown",
   "id": "1fe1006c",
   "metadata": {},
   "source": [
    "#### 3.5.3 Numerical IVP (odeint)"
   ]
  },
  {
   "cell_type": "code",
   "execution_count": null,
   "id": "885f2579",
   "metadata": {},
   "outputs": [],
   "source": [
    "f(t, y) = y - t\n",
    "ts = srange(0, 5, 0.1)\n",
    "ys = desolve_odeint(f, y0=2, t_span=ts)\n",
    "list_plot([(ts[i], ys[i][0]) for i in range(len(ts))])"
   ]
  },
  {
   "cell_type": "markdown",
   "id": "d1b079d8",
   "metadata": {},
   "source": [
    "#### 3.5.4 Euler’s Method for a System"
   ]
  },
  {
   "cell_type": "code",
   "execution_count": null,
   "id": "ac38b468",
   "metadata": {},
   "outputs": [],
   "source": [
    "t = var('t')\n",
    "f = [lambda t,u,v: u - t,\n",
    "     lambda t,u,v: -u + v]\n",
    "\n",
    "from sage.calculus.desolvers import ode_solver\n",
    "S = ode_solver()\n",
    "S.function = f\n",
    "S.ics      = (0, 2, 1)   # t0, y1(0)=2, y2(0)=1\n",
    "S.t_span   = [0, 5]\n",
    "S.num_steps = 50\n",
    "S.method   = 'euler'\n",
    "S.ode_solve()\n",
    "points = [(S.t_values[i], S.y_values[i]) for i in range(len(S.t_values))]\n",
    "points[:5]  # preview"
   ]
  }
 ],
 "metadata": {
  "kernelspec": {
   "display_name": "SageMath 9.x",
   "language": "sage",
   "name": "sagemath"
  }
 },
 "nbformat": 4,
 "nbformat_minor": 5
}

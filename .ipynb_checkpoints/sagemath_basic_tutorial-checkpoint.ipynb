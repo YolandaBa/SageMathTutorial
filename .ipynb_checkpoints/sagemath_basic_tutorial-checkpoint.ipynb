{
 "cells": [
  {
   "cell_type": "markdown",
   "id": "2ad7f31a",
   "metadata": {},
   "source": [
    "# 📘 SageMath Interactive Tutorial\n",
    "\n",
    "This notebook expands **tutorial.md** with richer examples and runnable SageMath code.  \n",
    "Execute each code cell to explore Sage's capabilities hands‑on."
   ]
  },
  {
   "cell_type": "markdown",
   "id": "82f1f025",
   "metadata": {},
   "source": [
    "## 1 ✏️ Assignment & Exact Arithmetic"
   ]
  },
  {
   "cell_type": "markdown",
   "id": "af30e7ed",
   "metadata": {},
   "source": [
    "In this section we demonstrate assignment, exact rationals, floats, the underscore `_`, and basic type inspection."
   ]
  },
  {
   "cell_type": "markdown",
   "id": "38e1eae6",
   "metadata": {},
   "source": [
    "### 1.1 Assign and Compare"
   ]
  },
  {
   "cell_type": "code",
   "execution_count": null,
   "id": "20898f0d",
   "metadata": {},
   "outputs": [],
   "source": [
    "b = 7/5                # assignment of a rational number\n",
    "b == 7/5               # equality test (expect True)"
   ]
  },
  {
   "cell_type": "markdown",
   "id": "4bf43006",
   "metadata": {},
   "source": [
    "### 1.2 The `_` Underscore"
   ]
  },
  {
   "cell_type": "markdown",
   "id": "dc8997f3",
   "metadata": {},
   "source": [
    "The underscore holds **the last printed output**.  We just evaluated `b == 7/5`, so `_` should be `True`."
   ]
  },
  {
   "cell_type": "code",
   "execution_count": null,
   "id": "21be1931",
   "metadata": {},
   "outputs": [],
   "source": [
    "_"
   ]
  },
  {
   "cell_type": "markdown",
   "id": "1d398830",
   "metadata": {},
   "source": [
    "### 1.3 Exact vs Floating Point"
   ]
  },
  {
   "cell_type": "code",
   "execution_count": null,
   "id": "fabf3d7d",
   "metadata": {},
   "outputs": [],
   "source": [
    "exact = 2/7            # exact rational\n",
    "flt   = 2/7.0          # floating‑point approximation\n",
    "exact, type(exact), flt, type(flt)"
   ]
  },
  {
   "cell_type": "markdown",
   "id": "0b7374b2",
   "metadata": {},
   "source": [
    "Multiplying by `7` shows the difference—no rounding for the rational, small error for the float:"
   ]
  },
  {
   "cell_type": "code",
   "execution_count": null,
   "id": "074d944f",
   "metadata": {},
   "outputs": [],
   "source": [
    "exact*7, flt*7"
   ]
  },
  {
   "cell_type": "markdown",
   "id": "590500e5",
   "metadata": {},
   "source": [
    "### 1.4 Exponentiation & Constants"
   ]
  },
  {
   "cell_type": "code",
   "execution_count": null,
   "id": "67d60817",
   "metadata": {},
   "outputs": [],
   "source": [
    "power1 = 5^8           # caret\n",
    "power2 = 5**8          # python-style\n",
    "constants = (pi.n(30), e^pi, I^2)\n",
    "(power1, power2, constants)"
   ]
  },
  {
   "cell_type": "markdown",
   "id": "d401d980",
   "metadata": {},
   "source": [
    "## 2 ➕ Basic Arithmetic Operators"
   ]
  },
  {
   "cell_type": "markdown",
   "id": "45270b58",
   "metadata": {},
   "source": [
    "Run the next cell to see each operator in action."
   ]
  },
  {
   "cell_type": "code",
   "execution_count": null,
   "id": "f15c9391",
   "metadata": {},
   "outputs": [],
   "source": [
    "add      = 12 + 15\n",
    "subtract = 50 - 19\n",
    "multiply = 9 * 14\n",
    "div_r    = 22/5        # rational\n",
    "div_f    = 22/5.0      # float\n",
    "floor_d  = 22//5\n",
    "exp      = 4^5\n",
    "mod      = 29 % 6\n",
    "(add, subtract, multiply, div_r, div_f, floor_d, exp, mod)"
   ]
  },
  {
   "cell_type": "markdown",
   "id": "fd53fa6f",
   "metadata": {},
   "source": [
    "## 3 🧮 Symbolic Algebra"
   ]
  },
  {
   "cell_type": "markdown",
   "id": "798a26c3",
   "metadata": {},
   "source": [
    "### 3.1 Declare Symbols"
   ]
  },
  {
   "cell_type": "markdown",
   "id": "7d3dc213",
   "metadata": {},
   "source": [
    "We declare symbolic variables and define a physically motivated expression: the range of a projectile fired from ground level with initial speed $v$ at angle $\\theta$ under gravity $g$.\n",
    "\n",
    "$\\displaystyle R(\\theta) = \\frac{v^2 \\sin 2\\theta}{g}$"
   ]
  },
  {
   "cell_type": "code",
   "execution_count": null,
   "id": "cdfd4f01",
   "metadata": {},
   "outputs": [],
   "source": [
    "theta, v, g = var('theta v g')\n",
    "R = v^2 * sin(2*theta) / g\n",
    "show(R)"
   ]
  },
  {
   "cell_type": "markdown",
   "id": "90439d20",
   "metadata": {},
   "source": [
    "What launch angle maximizes the range? Differentiate $R(\\theta)$ with respect to $\\theta$ and solve $R'(\\theta)=0$."
   ]
  },
  {
   "cell_type": "code",
   "execution_count": null,
   "id": "74fa93c6",
   "metadata": {},
   "outputs": [],
   "source": [
    "dR = diff(R, theta)\n",
    "opt_angle = solve(dR == 0, theta)\n",
    "opt_angle"
   ]
  },
  {
   "cell_type": "markdown",
   "id": "fdf657cf",
   "metadata": {},
   "source": [
    "### 3.2 Manipulate Expressions"
   ]
  },
  {
   "cell_type": "markdown",
   "id": "bc65a119",
   "metadata": {},
   "source": [
    "Below we demonstrate expansion, factorization, and numerical evaluation on a cubic expression."
   ]
  },
  {
   "cell_type": "code",
   "execution_count": null,
   "id": "9614ad74",
   "metadata": {},
   "outputs": [],
   "source": [
    "x = var('x')\n",
    "expr = (x - 2)*(x - 3)*(x + 1)\n",
    "expanded = expand(expr)\n",
    "factored = factor(expanded)\n",
    "simplified = (sin(x)^2 + cos(x)^2).simplify()\n",
    "subs_num = expanded.subs(x=1.5).n()\n",
    "(expanded, factored, simplified, subs_num)"
   ]
  },
  {
   "cell_type": "markdown",
   "id": "e49028c7",
   "metadata": {},
   "source": [
    "### 3.3 Solving Equations — Exact vs Numerical"
   ]
  },
  {
   "cell_type": "markdown",
   "id": "f295c811",
   "metadata": {},
   "source": [
    "We solve a cubic equation exactly, then tackle a transcendental equation numerically."
   ]
  },
  {
   "cell_type": "code",
   "execution_count": null,
   "id": "8f910d02",
   "metadata": {},
   "outputs": [],
   "source": [
    "# Exact roots of x^3 - 6x^2 + 11x - 6 = 0\n",
    "roots_exact = solve(x^3 - 6*x^2 + 11*x - 6 == 0, x)\n",
    "\n",
    "# Numeric solution of cos(x) = x\n",
    "g = cos(x) - x\n",
    "root_numeric = find_root(g, 0, 1)\n",
    "(roots_exact, root_numeric)"
   ]
  },
  {
   "cell_type": "markdown",
   "id": "6f5bbd1a",
   "metadata": {},
   "source": [
    "## 3.4 Calculus — Differentiation & Integration"
   ]
  },
  {
   "cell_type": "markdown",
   "id": "f60260af",
   "metadata": {},
   "source": [
    "Consider $f(x) = e^{x^2}\\cos x$.  We'll compute derivatives and a definite integral numerically."
   ]
  },
  {
   "cell_type": "code",
   "execution_count": null,
   "id": "78f87da5",
   "metadata": {},
   "outputs": [],
   "source": [
    "x = var('x')\n",
    "f = exp(x^2) * cos(x)\n",
    "f1 = diff(f, x)\n",
    "f2 = diff(f, x, 2)\n",
    "int_exact = integrate(f, (x, 0, 1))         # might be symbolic\n",
    "int_numeric = N(int_exact)\n",
    "(f1.simplify(), f2.simplify(), int_numeric)"
   ]
  },
  {
   "cell_type": "markdown",
   "id": "d0b27cea",
   "metadata": {},
   "source": [
    "## 3.5 Solving Differential Equations"
   ]
  },
  {
   "cell_type": "markdown",
   "id": "f06c2531",
   "metadata": {},
   "source": [
    "We explore symbolic, Laplace‑transform, and numerical solutions."
   ]
  },
  {
   "cell_type": "markdown",
   "id": "ede32bb8",
   "metadata": {},
   "source": [
    "### 3.5.1 Symbolic — Logistic Growth"
   ]
  },
  {
   "cell_type": "markdown",
   "id": "a06b3e3c",
   "metadata": {},
   "source": [
    "Logistic ODE: $\\displaystyle \\frac{dy}{dt}=r\\,y\\Bigl(1-\\frac{y}{K}\\Bigr)$ with $y(0)=y_0$."
   ]
  },
  {
   "cell_type": "code",
   "execution_count": null,
   "id": "5ab1febd",
   "metadata": {},
   "outputs": [],
   "source": [
    "t = var('t')\n",
    "y = function('y')(t)\n",
    "r, K = var('r K')\n",
    "logistic = diff(y, t) == r*y*(1 - y/K)\n",
    "sol_logistic = desolve(logistic, y, ics=[0, K/10])\n",
    "sol_logistic"
   ]
  },
  {
   "cell_type": "markdown",
   "id": "59bd96d7",
   "metadata": {},
   "source": [
    "### 3.5.2 Laplace Transform Method"
   ]
  },
  {
   "cell_type": "markdown",
   "id": "8e3d5c8f",
   "metadata": {},
   "source": [
    "Solve $y'' - 3y' + 2y = e^{2t}$ with $y(0)=0, y'(0)=1$ via Laplace."
   ]
  },
  {
   "cell_type": "code",
   "execution_count": null,
   "id": "10e945c5",
   "metadata": {},
   "outputs": [],
   "source": [
    "y = function('y')(t)\n",
    "lap_sol = desolve_laplace(diff(y,t,2) - 3*diff(y,t) + 2*y == exp(2*t), y, ics=[0,0,1])\n",
    "lap_sol"
   ]
  },
  {
   "cell_type": "markdown",
   "id": "9c9c1d87",
   "metadata": {},
   "source": [
    "### 3.5.3 Numerical IVP — Simple Pendulum (small angle)"
   ]
  },
  {
   "cell_type": "markdown",
   "id": "cad68340",
   "metadata": {},
   "source": [
    "System: $\\theta' = \\omega$, $\\omega' = -\\sin\\theta$. We integrate with `desolve_odeint`."
   ]
  },
  {
   "cell_type": "code",
   "execution_count": null,
   "id": "4a98c4c9",
   "metadata": {},
   "outputs": [],
   "source": [
    "theta, omega = var('theta omega')\n",
    "def pendulum(t, Y):\n",
    "    th, om = Y\n",
    "    return [om, -sin(th)]\n",
    "ts = srange(0, 10, 0.05)\n",
    "sol = desolve_odeint(pendulum, [0.1, 0], ts)\n",
    "list_plot([(ts[i], sol[i][0]) for i in range(len(ts))], plotjoined=True, axes_labels=['t','theta'])"
   ]
  },
  {
   "cell_type": "markdown",
   "id": "8879732b",
   "metadata": {},
   "source": [
    "### 3.5.4 Euler’s Method — Predator–Prey System"
   ]
  },
  {
   "cell_type": "markdown",
   "id": "a5ceeda3",
   "metadata": {},
   "source": [
    "Lotka–Volterra equations:\n",
    "\n",
    "\\[\n",
    "\\begin{cases}\n",
    "x' = \\alpha x - \\beta xy,\\\\[4pt]\n",
    "y' = \\delta xy - \\gamma y,\n",
    "\\end{cases}\n",
    "\\]\n",
    "\n",
    "with $\\alpha=\\beta=\\gamma=\\delta=1$, $x(0)=2$, $y(0)=1$.  \n",
    "We approximate with Euler steps."
   ]
  },
  {
   "cell_type": "code",
   "execution_count": null,
   "id": "def45da6",
   "metadata": {},
   "outputs": [],
   "source": [
    "alpha = beta = gamma = delta = 1\n",
    "def lv_sys(t, X, Y):\n",
    "    x, y = X, Y\n",
    "    return [alpha*x - beta*x*y,\n",
    "            delta*x*y - gamma*y]\n",
    "\n",
    "from sage.calculus.desolvers import ode_solver\n",
    "E = ode_solver()\n",
    "E.function = lv_sys\n",
    "E.ics = (0, 2, 1)      # t0, x0, y0\n",
    "E.t_span = [0, 10]\n",
    "E.num_steps = 400\n",
    "E.method = 'euler'\n",
    "E.ode_solve()\n",
    "pts = [(E.y_values[i][0], E.y_values[i][1]) for i in range(len(E.t_values))]\n",
    "line = line2d(pts, axes_labels=['x (prey)','y (predator)'])\n",
    "line"
   ]
  }
 ],
 "metadata": {
  "kernelspec": {
   "display_name": "SageMath 9.x",
   "language": "sage",
   "name": "sagemath"
  }
 },
 "nbformat": 4,
 "nbformat_minor": 5
}

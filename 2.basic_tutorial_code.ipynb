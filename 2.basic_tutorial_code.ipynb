{
 "cells": [
  {
   "cell_type": "markdown",
   "id": "2ad7f31a",
   "metadata": {},
   "source": [
    "# 📘 SageMath Interactive Tutorial\n",
    "\n",
    "This notebook expands **tutorial.md** with richer examples and runnable SageMath code.  "
   ]
  },
  {
   "cell_type": "markdown",
   "id": "82f1f025",
   "metadata": {},
   "source": [
    "## 1 ✏️ Assignment & Exact Arithmetic"
   ]
  },
  {
   "cell_type": "markdown",
   "id": "af30e7ed",
   "metadata": {},
   "source": [
    "In this section we demonstrate assignment, exact rationals, floats, the underscore `_`, and basic type inspection."
   ]
  },
  {
   "cell_type": "markdown",
   "id": "38e1eae6",
   "metadata": {},
   "source": [
    "### 1.1 Assign and Compare"
   ]
  },
  {
   "cell_type": "code",
   "execution_count": 1,
   "id": "20898f0d",
   "metadata": {},
   "outputs": [
    {
     "data": {
      "text/plain": [
       "True"
      ]
     },
     "execution_count": 1,
     "metadata": {},
     "output_type": "execute_result"
    }
   ],
   "source": [
    "b = 7/5                # assignment of a rational number\n",
    "b == 7/5               # equality test (expect True)"
   ]
  },
  {
   "cell_type": "markdown",
   "id": "4bf43006",
   "metadata": {},
   "source": [
    "### 1.2 The `_` Underscore"
   ]
  },
  {
   "cell_type": "markdown",
   "id": "dc8997f3",
   "metadata": {},
   "source": [
    "The underscore holds **the last printed output**.  We just evaluated `b == 7/5`, so `_` should be `True`."
   ]
  },
  {
   "cell_type": "code",
   "execution_count": 2,
   "id": "21be1931",
   "metadata": {},
   "outputs": [
    {
     "data": {
      "text/plain": [
       "True"
      ]
     },
     "execution_count": 2,
     "metadata": {},
     "output_type": "execute_result"
    }
   ],
   "source": [
    "_"
   ]
  },
  {
   "cell_type": "markdown",
   "id": "1d398830",
   "metadata": {},
   "source": [
    "### 1.3 Exact vs Floating Point"
   ]
  },
  {
   "cell_type": "code",
   "execution_count": 3,
   "id": "fabf3d7d",
   "metadata": {},
   "outputs": [
    {
     "data": {
      "text/plain": [
       "(2/7,\n",
       " <class 'sage.rings.rational.Rational'>,\n",
       " 0.285714285714286,\n",
       " <class 'sage.rings.real_mpfr.RealNumber'>)"
      ]
     },
     "execution_count": 3,
     "metadata": {},
     "output_type": "execute_result"
    }
   ],
   "source": [
    "exact = 2/7            # exact rational\n",
    "flt   = 2/7.0          # floating‑point approximation\n",
    "exact, type(exact), flt, type(flt)"
   ]
  },
  {
   "cell_type": "markdown",
   "id": "0b7374b2",
   "metadata": {},
   "source": [
    "Multiplying by `7` shows the difference—no rounding for the rational, small error for the float:"
   ]
  },
  {
   "cell_type": "code",
   "execution_count": 4,
   "id": "074d944f",
   "metadata": {},
   "outputs": [
    {
     "data": {
      "text/plain": [
       "(2, 2.00000000000000)"
      ]
     },
     "execution_count": 4,
     "metadata": {},
     "output_type": "execute_result"
    }
   ],
   "source": [
    "exact*7, flt*7"
   ]
  },
  {
   "cell_type": "markdown",
   "id": "590500e5",
   "metadata": {},
   "source": [
    "### 1.4 Exponentiation & Constants"
   ]
  },
  {
   "cell_type": "code",
   "execution_count": 5,
   "id": "67d60817",
   "metadata": {},
   "outputs": [
    {
     "data": {
      "text/plain": [
       "(390625, 390625, (3.1415927, e^pi, -1))"
      ]
     },
     "execution_count": 5,
     "metadata": {},
     "output_type": "execute_result"
    }
   ],
   "source": [
    "power1 = 5^8           # caret\n",
    "power2 = 5**8          # python-style\n",
    "constants = (pi.n(30), e^pi, I^2)\n",
    "(power1, power2, constants)"
   ]
  },
  {
   "cell_type": "markdown",
   "id": "d401d980",
   "metadata": {},
   "source": [
    "## 2 ➕ Basic Arithmetic Operators"
   ]
  },
  {
   "cell_type": "markdown",
   "id": "45270b58",
   "metadata": {},
   "source": [
    "Run the next cell to see each operator in action."
   ]
  },
  {
   "cell_type": "code",
   "execution_count": 6,
   "id": "f15c9391",
   "metadata": {},
   "outputs": [
    {
     "data": {
      "text/plain": [
       "(27, 31, 126, 22/5, 4.40000000000000, 4, 1024, 5)"
      ]
     },
     "execution_count": 6,
     "metadata": {},
     "output_type": "execute_result"
    }
   ],
   "source": [
    "add      = 12 + 15\n",
    "subtract = 50 - 19\n",
    "multiply = 9 * 14\n",
    "div_r    = 22/5        # rational\n",
    "div_f    = 22/5.0      # float\n",
    "floor_d  = 22//5\n",
    "exp      = 4^5\n",
    "mod      = 29 % 6\n",
    "(add, subtract, multiply, div_r, div_f, floor_d, exp, mod)"
   ]
  },
  {
   "cell_type": "markdown",
   "id": "fd53fa6f",
   "metadata": {},
   "source": [
    "## 3 🧮 Symbolic Algebra"
   ]
  },
  {
   "cell_type": "markdown",
   "id": "798a26c3",
   "metadata": {},
   "source": [
    "### 3.1 Declare Symbols"
   ]
  },
  {
   "cell_type": "markdown",
   "id": "7d3dc213",
   "metadata": {},
   "source": [
    "We declare symbolic variables and define a physically motivated expression: the range of a projectile fired from ground level with initial speed $v$ at angle $\\theta$ under gravity $g$.\n",
    "\n",
    "$\\displaystyle R(\\theta) = \\frac{v^2 \\sin 2\\theta}{g}$"
   ]
  },
  {
   "cell_type": "code",
   "execution_count": 7,
   "id": "cdfd4f01",
   "metadata": {},
   "outputs": [
    {
     "data": {
      "text/html": [
       "<html>\\(\\displaystyle \\frac{v^{2} \\sin\\left(2 \\, \\theta\\right)}{g}\\)</html>"
      ],
      "text/latex": [
       "$\\displaystyle \\frac{v^{2} \\sin\\left(2 \\, \\theta\\right)}{g}$"
      ],
      "text/plain": [
       "v^2*sin(2*theta)/g"
      ]
     },
     "metadata": {},
     "output_type": "display_data"
    }
   ],
   "source": [
    "theta, v, g = var('theta v g')\n",
    "R = v^2 * sin(2*theta) / g\n",
    "show(R)"
   ]
  },
  {
   "cell_type": "markdown",
   "id": "90439d20",
   "metadata": {},
   "source": [
    "What launch angle maximizes the range? Differentiate $R(\\theta)$ with respect to $\\theta$ and solve $R'(\\theta)=0$."
   ]
  },
  {
   "cell_type": "code",
   "execution_count": 8,
   "id": "74fa93c6",
   "metadata": {},
   "outputs": [
    {
     "data": {
      "text/plain": [
       "[theta == 1/4*pi]"
      ]
     },
     "execution_count": 8,
     "metadata": {},
     "output_type": "execute_result"
    }
   ],
   "source": [
    "dR = diff(R, theta)\n",
    "opt_angle = solve(dR == 0, theta)\n",
    "opt_angle"
   ]
  },
  {
   "cell_type": "markdown",
   "id": "fdf657cf",
   "metadata": {},
   "source": [
    "### 3.2 Manipulate Expressions"
   ]
  },
  {
   "cell_type": "markdown",
   "id": "bc65a119",
   "metadata": {},
   "source": [
    "Below we demonstrate expansion, factorization, and numerical evaluation on a cubic expression."
   ]
  },
  {
   "cell_type": "code",
   "execution_count": 9,
   "id": "9614ad74",
   "metadata": {},
   "outputs": [
    {
     "data": {
      "text/plain": [
       "(x^3 - 4*x^2 + x + 6,\n",
       " (x + 1)*(x - 2)*(x - 3),\n",
       " cos(x)^2 + sin(x)^2,\n",
       " 1.87500000000000)"
      ]
     },
     "execution_count": 9,
     "metadata": {},
     "output_type": "execute_result"
    }
   ],
   "source": [
    "x = var('x')\n",
    "expr = (x - 2)*(x - 3)*(x + 1)\n",
    "expanded = expand(expr)\n",
    "factored = factor(expanded)\n",
    "simplified = (sin(x)^2 + cos(x)^2).simplify()\n",
    "subs_num = expanded.subs(x=1.5).n()\n",
    "(expanded, factored, simplified, subs_num)"
   ]
  },
  {
   "cell_type": "markdown",
   "id": "e49028c7",
   "metadata": {},
   "source": [
    "### 3.3 Solving Equations — Exact vs Numerical"
   ]
  },
  {
   "cell_type": "markdown",
   "id": "f295c811",
   "metadata": {},
   "source": [
    "We solve a cubic equation exactly, then tackle a transcendental equation numerically."
   ]
  },
  {
   "cell_type": "code",
   "execution_count": 10,
   "id": "8f910d02",
   "metadata": {},
   "outputs": [
    {
     "data": {
      "text/plain": [
       "([x == 1, x == 2, x == 3], 0.7390851332151559)"
      ]
     },
     "execution_count": 10,
     "metadata": {},
     "output_type": "execute_result"
    }
   ],
   "source": [
    "# Exact roots of x^3 - 6x^2 + 11x - 6 = 0\n",
    "roots_exact = solve(x^3 - 6*x^2 + 11*x - 6 == 0, x)\n",
    "\n",
    "# Numeric solution of cos(x) = x\n",
    "g = cos(x) - x\n",
    "root_numeric = find_root(g, 0, 1)\n",
    "(roots_exact, root_numeric)"
   ]
  },
  {
   "cell_type": "markdown",
   "id": "6f5bbd1a",
   "metadata": {},
   "source": [
    "## 3.4 Calculus — Differentiation & Integration"
   ]
  },
  {
   "cell_type": "markdown",
   "id": "f60260af",
   "metadata": {},
   "source": [
    "Consider $f(x) = e^{x^2}\\cos x$.  We'll compute derivatives and a definite integral numerically."
   ]
  },
  {
   "cell_type": "code",
   "execution_count": 11,
   "id": "4d63ae9e-3834-4cbd-b979-36f22d5ee9ce",
   "metadata": {},
   "outputs": [],
   "source": [
    "reset()"
   ]
  },
  {
   "cell_type": "code",
   "execution_count": 12,
   "id": "78f87da5",
   "metadata": {},
   "outputs": [
    {
     "data": {
      "text/plain": [
       "(2*x*cos(x)*e^(x^2) - e^(x^2)*sin(x),\n",
       " 4*x^2*cos(x)*e^(x^2) - 4*x*e^(x^2)*sin(x) + cos(x)*e^(x^2),\n",
       " 1.16570458514255)"
      ]
     },
     "execution_count": 12,
     "metadata": {},
     "output_type": "execute_result"
    }
   ],
   "source": [
    "x = var('x')\n",
    "f = exp(x^2) * cos(x)  \n",
    "f1 = diff(f, x)\n",
    "f2 = diff(f, x, 2)\n",
    "int_exact = integrate(f, (x, 0, 1))         # might be symbolic\n",
    "int_numeric = N(int_exact)\n",
    "(f1.simplify(), f2.simplify(), int_numeric)"
   ]
  },
  {
   "cell_type": "markdown",
   "id": "d0b27cea",
   "metadata": {},
   "source": [
    "## 3.5 Solving Differential Equations"
   ]
  },
  {
   "cell_type": "markdown",
   "id": "f06c2531",
   "metadata": {},
   "source": [
    "We explore symbolic, Laplace‑transform, and numerical solutions."
   ]
  },
  {
   "cell_type": "markdown",
   "id": "ede32bb8",
   "metadata": {},
   "source": [
    "### 3.5.1 Symbolic — Logistic Growth"
   ]
  },
  {
   "cell_type": "markdown",
   "id": "a06b3e3c",
   "metadata": {},
   "source": [
    "Logistic ODE: $\\displaystyle \\frac{dy}{dt}=r\\,y\\Bigl(1-\\frac{y}{K}\\Bigr)$ with $y(0)=y_0$."
   ]
  },
  {
   "cell_type": "code",
   "execution_count": 13,
   "id": "bd2782bb-6ff9-4aaa-ad69-3e2ff753d813",
   "metadata": {},
   "outputs": [],
   "source": [
    "reset()"
   ]
  },
  {
   "cell_type": "code",
   "execution_count": 14,
   "id": "5ab1febd",
   "metadata": {
    "scrolled": true
   },
   "outputs": [
    {
     "data": {
      "text/html": [
       "<html>\\(\\displaystyle -\\frac{\\log\\left(-K + y\\left(t\\right)\\right) - \\log\\left(y\\left(t\\right)\\right)}{r} = C + t\\)</html>"
      ],
      "text/latex": [
       "$\\displaystyle -\\frac{\\log\\left(-K + y\\left(t\\right)\\right) - \\log\\left(y\\left(t\\right)\\right)}{r} = C + t$"
      ],
      "text/plain": [
       "-(log(-K + y(t)) - log(y(t)))/r == _C + t"
      ]
     },
     "metadata": {},
     "output_type": "display_data"
    },
    {
     "data": {
      "text/html": [
       "<html>\\(\\displaystyle -\\frac{10}{7} \\, \\log\\left(y\\left(t\\right) - 12\\right) + \\frac{10}{7} \\, \\log\\left(y\\left(t\\right)\\right) = -\\frac{10}{7} i \\, \\pi + t - \\frac{10}{7} \\, \\log\\left(\\frac{54}{5}\\right) + \\frac{10}{7} \\, \\log\\left(\\frac{6}{5}\\right)\\)</html>"
      ],
      "text/latex": [
       "$\\displaystyle -\\frac{10}{7} \\, \\log\\left(y\\left(t\\right) - 12\\right) + \\frac{10}{7} \\, \\log\\left(y\\left(t\\right)\\right) = -\\frac{10}{7} i \\, \\pi + t - \\frac{10}{7} \\, \\log\\left(\\frac{54}{5}\\right) + \\frac{10}{7} \\, \\log\\left(\\frac{6}{5}\\right)$"
      ],
      "text/plain": [
       "-10/7*log(y(t) - 12) + 10/7*log(y(t)) == -10/7*I*pi + t - 10/7*log(54/5) + 10/7*log(6/5)"
      ]
     },
     "metadata": {},
     "output_type": "display_data"
    }
   ],
   "source": [
    "# Logistic ODE  y' = r y (1 - y / K)     with y(0) = K/10\n",
    "reset()                     # clear any stray definitions\n",
    "\n",
    "t  = var('t')               # time\n",
    "y  = function('y')(t)       # unknown function y(t)\n",
    "r, K = var('r K')           # positive parameters\n",
    "\n",
    "ode  = diff(y, t) == r*y*(1 - y/K)\n",
    "\n",
    "# a) General symbolic solution (no ICs) ────────────────────────────\n",
    "sol_general = desolve(ode, y, ivar=t)\n",
    "show(sol_general)\n",
    "\n",
    "# b) Particular solution with numeric parameters and ICs ───────────\n",
    "r_val = 0.7;  K_val = 12\n",
    "ode_num = ode.subs({r: r_val, K: K_val})\n",
    "ics     = [0, K_val/10]            \n",
    "\n",
    "sol_IVP = desolve(ode_num, y, ivar=t, ics=ics)\n",
    "show(sol_IVP)"
   ]
  },
  {
   "cell_type": "markdown",
   "id": "59bd96d7",
   "metadata": {},
   "source": [
    "### 3.5.2 Laplace Transform Method"
   ]
  },
  {
   "cell_type": "markdown",
   "id": "8e3d5c8f",
   "metadata": {},
   "source": [
    "Solve $y'' - 3y' + 2y = e^{2t}$ with $y(0)=0, y'(0)=1$ via Laplace."
   ]
  },
  {
   "cell_type": "code",
   "execution_count": 15,
   "id": "d42b9ccb-8a1f-4e56-baca-29dd54efc161",
   "metadata": {},
   "outputs": [],
   "source": [
    "reset()"
   ]
  },
  {
   "cell_type": "code",
   "execution_count": 16,
   "id": "10e945c5",
   "metadata": {},
   "outputs": [
    {
     "data": {
      "text/html": [
       "<html>\\(\\displaystyle {\\left(t - 1\\right)} e^{\\left(2 \\, t\\right)} + e^{\\left(2 \\, t\\right)}\\)</html>"
      ],
      "text/latex": [
       "$\\displaystyle {\\left(t - 1\\right)} e^{\\left(2 \\, t\\right)} + e^{\\left(2 \\, t\\right)}$"
      ],
      "text/plain": [
       "(t - 1)*e^(2*t) + e^(2*t)"
      ]
     },
     "metadata": {},
     "output_type": "display_data"
    }
   ],
   "source": [
    "\n",
    "t = var('t')\n",
    "y = function('y')(t)\n",
    "\n",
    "ode   = diff(y, t, 2) - 3*diff(y, t) + 2*y == exp(2*t)\n",
    "ics   = [0, 0, 1]              # t=0,  y=0,  y' = 1\n",
    "\n",
    "sol = desolve(ode, y, ivar=t, ics=ics)   # plain desolve, not Laplace\n",
    "show(sol)\n",
    "                             "
   ]
  },
  {
   "cell_type": "markdown",
   "id": "9c9c1d87",
   "metadata": {},
   "source": [
    "### 3.5.3 Numerical IVP — Simple Pendulum (small angle)"
   ]
  },
  {
   "cell_type": "markdown",
   "id": "cad68340",
   "metadata": {},
   "source": [
    "System: $\\theta' = \\omega$, $\\omega' = -\\sin\\theta$. We integrate with `desolve_odeint`."
   ]
  },
  {
   "cell_type": "code",
   "execution_count": 17,
   "id": "4a98c4c9",
   "metadata": {},
   "outputs": [],
   "source": [
    "reset()"
   ]
  },
  {
   "cell_type": "code",
   "execution_count": 18,
   "id": "511da930-2e0a-47f5-a234-63d34ddf141c",
   "metadata": {},
   "outputs": [
    {
     "data": {
      "image/png": "[encoded data removed]",
      "text/plain": [
       "Graphics object consisting of 1 graphics primitive"
      ]
     },
     "execution_count": 18,
     "metadata": {},
     "output_type": "execute_result"
    }
   ],
   "source": [
    "# 1 · Declare dependent variables (just symbols, not functions of t)\n",
    "theta, omega = var('theta omega')\n",
    "\n",
    "# 2 · RHS of the system written symbolically\n",
    "rhs = [omega, -sin(theta)]          # [θ', ω']\n",
    "\n",
    "# 3 · Initial conditions and time grid\n",
    "y0 = [0.1, 0]                       # initial θ, ω\n",
    "ts = srange(0, 10, 0.05)\n",
    "\n",
    "# 4 · Numerical integration with odeint\n",
    "sol = desolve_odeint(rhs, y0, ts, dvars=[theta, omega])\n",
    "\n",
    "# 5 · Plot θ(t)\n",
    "list_plot([(ts[i], sol[i][0]) for i in range(len(ts))],\n",
    "          plotjoined=True, axes_labels=['t', 'theta'])\n"
   ]
  },
  {
   "cell_type": "markdown",
   "id": "8879732b",
   "metadata": {},
   "source": [
    "### 3.5.4 Euler’s Method — Predator–Prey System"
   ]
  },
  {
   "cell_type": "markdown",
   "id": "a5ceeda3",
   "metadata": {},
   "source": [
    "Lotka–Volterra equations:\n",
    "\n",
    "\n",
    "\\begin{cases}\n",
    "x' = \\alpha x - \\beta xy,\\\\[4pt]\n",
    "y' = \\delta xy - \\gamma y,\n",
    "\\end{cases}\n",
    "\n",
    "\n",
    "with $\\alpha=\\beta=\\gamma=\\delta=1$, $x(0)=2$, $y(0)=1$.  \n",
    "We approximate with Euler steps."
   ]
  },
  {
   "cell_type": "code",
   "execution_count": 19,
   "id": "4d9d47c7-6025-4a69-9238-433af345c815",
   "metadata": {},
   "outputs": [],
   "source": [
    "reset()"
   ]
  },
  {
   "cell_type": "code",
   "execution_count": 21,
   "id": "def45da6",
   "metadata": {},
   "outputs": [
    {
     "data": {
      "image/png": "[encoded data removed]",
      "text/plain": [
       "Graphics object consisting of 1 graphics primitive"
      ]
     },
     "execution_count": 21,
     "metadata": {},
     "output_type": "execute_result"
    }
   ],
   "source": [
    "\n",
    "# 1 · Parameters and symbolic variables\n",
    "alpha = beta = gamma = delta = 1\n",
    "x, y   = var('x y')                     # prey  x(t), predator  y(t)\n",
    "\n",
    "# 2 · Right‑hand sides\n",
    "rhs = [alpha*x - beta*x*y,              #  x' = αx − βxy\n",
    "       delta*x*y - gamma*y]             #  y' = δxy − γy\n",
    "\n",
    "# 3 · Initial conditions and time mesh\n",
    "y0  = [2, 1]                            # x(0)=2 , y(0)=1\n",
    "ts  = srange(0, 10, 0.05)\n",
    "\n",
    "# 4 · Numerical integration\n",
    "sol = desolve_odeint(rhs, y0, ts, dvars=[x, y])\n",
    "\n",
    "# 5 · Phase‑plane plot  (prey vs predator)\n",
    "pts  = [(sol[i][0], sol[i][1]) for i in range(len(ts))]\n",
    "list_plot(pts, plotjoined=True,\n",
    "          axes_labels=['x (prey)', 'y (predator)'])\n"
   ]
  },
  {
   "cell_type": "code",
   "execution_count": null,
   "id": "a9c0b46e-142c-4d68-985b-c8a6dc3651a5",
   "metadata": {},
   "outputs": [],
   "source": []
  }
 ],
 "metadata": {
  "kernelspec": {
   "display_name": "SageMath 10.6",
   "language": "sage",
   "name": "sagemath-10.6"
  },
  "language_info": {
   "codemirror_mode": {
    "name": "ipython",
    "version": 3
   },
   "file_extension": ".py",
   "mimetype": "text/x-python",
   "name": "python",
   "nbconvert_exporter": "python",
   "pygments_lexer": "ipython3",
   "version": "3.12.5"
  }
 },
 "nbformat": 4,
 "nbformat_minor": 5
}

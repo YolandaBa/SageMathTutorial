{
 "cells": [
  {
   "cell_type": "markdown",
   "id": "9bde05ca-d97b-41e1-b1a7-6dd4cb3f29c3",
   "metadata": {},
   "source": [
    "## Trivial Representation"
   ]
  },
  {
   "cell_type": "code",
   "execution_count": 1,
   "id": "66174ae8-ebfa-4914-ba00-8eeeb63848d4",
   "metadata": {},
   "outputs": [
    {
     "data": {
      "text/html": [
       "<html>\\(\\displaystyle \\left(\\begin{array}{rrr}\n",
       "1 & 0 & 0 \\\\\n",
       "0 & 1 & 0 \\\\\n",
       "0 & 0 & 1\n",
       "\\end{array}\\right)\\)</html>"
      ],
      "text/latex": [
       "$\\displaystyle \\left(\\begin{array}{rrr}\n",
       "1 & 0 & 0 \\\\\n",
       "0 & 1 & 0 \\\\\n",
       "0 & 0 & 1\n",
       "\\end{array}\\right)$"
      ],
      "text/plain": [
       "[1 0 0]\n",
       "[0 1 0]\n",
       "[0 0 1]"
      ]
     },
     "metadata": {},
     "output_type": "display_data"
    }
   ],
   "source": [
    "G = SymmetricGroup(3)\n",
    "n = 3\n",
    "\n",
    "def triv(g):\n",
    "    return matrix.identity(n)\n",
    "\n",
    "g = G.an_element()\n",
    "\n",
    "show(triv(g))"
   ]
  },
  {
   "cell_type": "markdown",
   "id": "fcaf71f6-fc39-41d0-b403-4cc3a7da87bf",
   "metadata": {},
   "source": [
    "## Permutation Representation\n",
    "Example from Textbook 1.3.3\n",
    "$$X((1,2))=\\left(\\begin{array}{lll}0 & 1 & 0 \\\\ 1 & 0 & 0 \\\\ 0 & 0 & 1\\end{array}\\right)$$"
   ]
  },
  {
   "cell_type": "code",
   "execution_count": 2,
   "id": "9cc4fd54-7ac3-46cc-bdc5-a98c63561540",
   "metadata": {},
   "outputs": [
    {
     "data": {
      "text/html": [
       "<html>\\(\\displaystyle \\left(\\begin{array}{rrr}\n",
       "0 & 1 & 0 \\\\\n",
       "1 & 0 & 0 \\\\\n",
       "0 & 0 & 1\n",
       "\\end{array}\\right)\\)</html>"
      ],
      "text/latex": [
       "$\\displaystyle \\left(\\begin{array}{rrr}\n",
       "0 & 1 & 0 \\\\\n",
       "1 & 0 & 0 \\\\\n",
       "0 & 0 & 1\n",
       "\\end{array}\\right)$"
      ],
      "text/plain": [
       "[0 1 0]\n",
       "[1 0 0]\n",
       "[0 0 1]"
      ]
     },
     "metadata": {},
     "output_type": "display_data"
    }
   ],
   "source": [
    "# Define the symmetric group S_3\n",
    "G = SymmetricGroup(3)\n",
    "\n",
    "# Define a function that returns the permutation matrix of an element g ∈ S_3\n",
    "def perm(g):\n",
    "    return g.matrix()\n",
    "\n",
    "# Pick an example element of S_3\n",
    "g = G((1,2))\n",
    "\n",
    "# Display its permutation matrix\n",
    "show(perm(g))\n"
   ]
  },
  {
   "cell_type": "markdown",
   "id": "7b867eaf-7d3f-4d7a-b250-d04da11a6a87",
   "metadata": {},
   "source": [
    "(It is the same as textbook)\n",
    "\n",
    "To verify this is a representation, we can check the homomorphism property:\n",
    "\n",
    "$$\n",
    "\\rho(g h)=\\rho(g) \\cdot \\rho(h)\n",
    "$$\n",
    "\n",
    "\n",
    "Here's how to test this:"
   ]
  },
  {
   "cell_type": "code",
   "execution_count": 3,
   "id": "37b6de0d-5060-4f87-9d6b-51e5ca0b4239",
   "metadata": {},
   "outputs": [],
   "source": [
    "# Check if the permutation matrices define a valid group representation\n",
    "for g in G:\n",
    "    for h in G:\n",
    "        if g.matrix() * h.matrix() != (g*h).matrix():\n",
    "            print(\"This is not a representation!\")\n"
   ]
  },
  {
   "cell_type": "markdown",
   "id": "88b78f34-6d96-45de-be13-9869970c5fc3",
   "metadata": {},
   "source": [
    "## Regular Representation\n",
    "With Sagan Example 1.3.4"
   ]
  },
  {
   "cell_type": "code",
   "execution_count": 4,
   "id": "be79185d-ebc7-44a1-afa4-c23ae43ccc12",
   "metadata": {},
   "outputs": [
    {
     "data": {
      "text/html": [
       "<html>\\(\\displaystyle \\left(\\begin{array}{rrrr}\n",
       "0 & 0 & 1 & 0 \\\\\n",
       "0 & 0 & 0 & 1 \\\\\n",
       "1 & 0 & 0 & 0 \\\\\n",
       "0 & 1 & 0 & 0\n",
       "\\end{array}\\right)\\)</html>"
      ],
      "text/latex": [
       "$\\displaystyle \\left(\\begin{array}{rrrr}\n",
       "0 & 0 & 1 & 0 \\\\\n",
       "0 & 0 & 0 & 1 \\\\\n",
       "1 & 0 & 0 & 0 \\\\\n",
       "0 & 1 & 0 & 0\n",
       "\\end{array}\\right)$"
      ],
      "text/plain": [
       "[0 0 1 0]\n",
       "[0 0 0 1]\n",
       "[1 0 0 0]\n",
       "[0 1 0 0]"
      ]
     },
     "metadata": {},
     "output_type": "display_data"
    }
   ],
   "source": [
    "def regular_rep_matrix(G, g, side=\"right\", base_ring=QQ):\n",
    "    \"\"\"\n",
    "    Return the regular‐representation matrix of the group element g ∈ G.\n",
    "    \n",
    "    INPUT:\n",
    "      - G         -- a finite group (e.g. SymmetricGroup(3), CyclicPermutationGroup(4), ...)\n",
    "      - g         -- an element of G\n",
    "      - side      -- either \"right\" (default) or \"left\", indicating whether\n",
    "                     the action is by right‐ or left‐multiplication on C[G]\n",
    "      - base_ring -- the base field/ring for the matrix entries (default QQ)\n",
    "    \n",
    "    OUTPUT:\n",
    "      The |G|×|G| permutation matrix whose (i,j)‐entry is 1 exactly when\n",
    "      basis[i]⋆g (or g⋆basis[i]) = basis[j], and 0 otherwise.\n",
    "    \"\"\"\n",
    "    \n",
    "    basis = list(G)\n",
    "    n     = len(basis)\n",
    "    if side not in (\"right\",\"left\"):\n",
    "        raise ValueError(\"side must be 'right' or 'left'\")\n",
    "    def act(h):\n",
    "        return h*g if side==\"right\" else g*h\n",
    "    return matrix(base_ring, n, n,\n",
    "                  lambda i,j: 1 if act(basis[i])==basis[j] else 0)\n",
    "\n",
    "# --- Example: Regular representation of C4, matrix of g^2 ---\n",
    "\n",
    "# 1) Build C4 = <g | g^4 = e>\n",
    "G4 = CyclicPermutationGroup(4)\n",
    "g4 = G4.gen()\n",
    "\n",
    "# 2) Compute and show M = X(g^2)\n",
    "M = regular_rep_matrix(G4, g4^2, side=\"right\", base_ring=QQ)\n",
    "show(M)\n"
   ]
  },
  {
   "cell_type": "code",
   "execution_count": 5,
   "id": "cd2bf68f-8065-40a7-aabe-77a1931e8087",
   "metadata": {},
   "outputs": [
    {
     "data": {
      "text/html": [
       "<html>\\(\\displaystyle \\left(\\begin{array}{rrrrrr}\n",
       "0 & 0 & 0 & 0 & 0 & 1 \\\\\n",
       "0 & 0 & 0 & 0 & 1 & 0 \\\\\n",
       "0 & 0 & 0 & 1 & 0 & 0 \\\\\n",
       "0 & 0 & 1 & 0 & 0 & 0 \\\\\n",
       "0 & 1 & 0 & 0 & 0 & 0 \\\\\n",
       "1 & 0 & 0 & 0 & 0 & 0\n",
       "\\end{array}\\right)\\)</html>"
      ],
      "text/latex": [
       "$\\displaystyle \\left(\\begin{array}{rrrrrr}\n",
       "0 & 0 & 0 & 0 & 0 & 1 \\\\\n",
       "0 & 0 & 0 & 0 & 1 & 0 \\\\\n",
       "0 & 0 & 0 & 1 & 0 & 0 \\\\\n",
       "0 & 0 & 1 & 0 & 0 & 0 \\\\\n",
       "0 & 1 & 0 & 0 & 0 & 0 \\\\\n",
       "1 & 0 & 0 & 0 & 0 & 0\n",
       "\\end{array}\\right)$"
      ],
      "text/plain": [
       "[0 0 0 0 0 1]\n",
       "[0 0 0 0 1 0]\n",
       "[0 0 0 1 0 0]\n",
       "[0 0 1 0 0 0]\n",
       "[0 1 0 0 0 0]\n",
       "[1 0 0 0 0 0]"
      ]
     },
     "metadata": {},
     "output_type": "display_data"
    }
   ],
   "source": [
    "# 1) Regular matrix of (1 2) in S3, right‐action\n",
    "G = SymmetricGroup(3)\n",
    "g = G((1,2))\n",
    "M = regular_rep_matrix(G, g, side=\"right\", base_ring=QQ)\n",
    "show(M)"
   ]
  },
  {
   "cell_type": "code",
   "execution_count": 6,
   "id": "c0067327-6b15-435c-bc30-b2127f72842c",
   "metadata": {},
   "outputs": [],
   "source": [
    "## Standard Representation"
   ]
  },
  {
   "cell_type": "code",
   "execution_count": 7,
   "id": "23c19927-00fb-4aa7-b629-a028270b444d",
   "metadata": {},
   "outputs": [],
   "source": [
    "def standard_representation(G, R=QQ, reverse=False):\n",
    "    r\"\"\"\n",
    "    Return a function M_std so that for each g in S_n = G,\n",
    "    M_std(g) is the (n-1)x(n-1) matrix of the standard representation\n",
    "    in the basis\n",
    "       forward:  [e1−e2, e2−e3, ..., e_{n-1}−e_n]\n",
    "       reverse:  [e_{n-1}−e_n, e_{n-2}−e_{n-1}, ..., e1−e2]\n",
    "    \"\"\"\n",
    "    n = G.degree()\n",
    "    # build the n x (n-1) basis‐matrix B\n",
    "    if not reverse:\n",
    "        # B[:,j] = e_{j+1} - e_{j+2}  (0-based indexing)\n",
    "        B = matrix(R, n, n-1, lambda i,j: \n",
    "            1  if i==j \n",
    "          else -1  if i==j+1 \n",
    "          else  0 )\n",
    "    else:\n",
    "        # reversed columns\n",
    "        B = matrix(R, n, n-1, 0)\n",
    "        for j in range(n-1):\n",
    "            i_plus = n-2 - j   # row for +1\n",
    "            i_minus = n-1 - j  # row for -1\n",
    "            B[i_plus,  j] =  1\n",
    "            B[i_minus, j] = -1\n",
    "\n",
    "    # precompute (B^T B)^{-1}\n",
    "    BtB_inv = (B.T * B).inverse()\n",
    "\n",
    "    def M_std(g):\n",
    "        P = g.matrix()               # the n×n permutation matrix\n",
    "        return BtB_inv * (B.T * P * B)\n",
    "\n",
    "    return M_std\n"
   ]
  },
  {
   "cell_type": "code",
   "execution_count": 8,
   "id": "c38c02e4-f198-4f50-b75c-8d5770576175",
   "metadata": {},
   "outputs": [
    {
     "data": {
      "text/html": [
       "<html>\\(\\displaystyle \\left(\\begin{array}{rr}\n",
       "-1 & 1 \\\\\n",
       "-1 & 0\n",
       "\\end{array}\\right)\\)</html>"
      ],
      "text/latex": [
       "$\\displaystyle \\left(\\begin{array}{rr}\n",
       "-1 & 1 \\\\\n",
       "-1 & 0\n",
       "\\end{array}\\right)$"
      ],
      "text/plain": [
       "[-1  1]\n",
       "[-1  0]"
      ]
     },
     "metadata": {},
     "output_type": "display_data"
    },
    {
     "data": {
      "text/html": [
       "<html>\\(\\displaystyle \\left(\\begin{array}{rr}\n",
       "0 & -1 \\\\\n",
       "-1 & 0\n",
       "\\end{array}\\right)\\)</html>"
      ],
      "text/latex": [
       "$\\displaystyle \\left(\\begin{array}{rr}\n",
       "0 & -1 \\\\\n",
       "-1 & 0\n",
       "\\end{array}\\right)$"
      ],
      "text/plain": [
       "[ 0 -1]\n",
       "[-1  0]"
      ]
     },
     "metadata": {},
     "output_type": "display_data"
    }
   ],
   "source": [
    "G = SymmetricGroup(3)\n",
    "\n",
    "# 2) Standard 2‑dimensional representation of S3\n",
    "std = standard_representation(G, QQ)\n",
    "\n",
    "# 2×2 matrix of the 3‑cycle (1 2 3)\n",
    "show(std(G((1,2,3))))\n",
    "\n",
    "# 2×2 matrix of the transposition (1 3)\n",
    "show(std(G((1,3))))\n"
   ]
  },
  {
   "cell_type": "markdown",
   "id": "0dbf8fa5-beb6-460b-88b9-722a1474ea08",
   "metadata": {},
   "source": [
    "## Characater table"
   ]
  },
  {
   "cell_type": "code",
   "execution_count": 9,
   "id": "bed98263-863f-4ce5-8394-9654e9c0f825",
   "metadata": {},
   "outputs": [
    {
     "data": {
      "text/plain": [
       "6"
      ]
     },
     "execution_count": 9,
     "metadata": {},
     "output_type": "execute_result"
    }
   ],
   "source": [
    "G = SymmetricGroup(3)\n",
    "G.order()        # ⇒ 6"
   ]
  },
  {
   "cell_type": "code",
   "execution_count": 10,
   "id": "f8484d65-131d-4e90-ab9a-125a879c85a7",
   "metadata": {},
   "outputs": [
    {
     "data": {
      "text/plain": [
       "[Conjugacy class of cycle type [1, 1, 1] in Symmetric group of order 3! as a permutation group,\n",
       " Conjugacy class of cycle type [2, 1] in Symmetric group of order 3! as a permutation group,\n",
       " Conjugacy class of cycle type [3] in Symmetric group of order 3! as a permutation group]"
      ]
     },
     "execution_count": 10,
     "metadata": {},
     "output_type": "execute_result"
    }
   ],
   "source": [
    "G.conjugacy_classes()"
   ]
  },
  {
   "cell_type": "code",
   "execution_count": 11,
   "id": "feb41623-e72e-4e3f-91a9-572f64163da7",
   "metadata": {},
   "outputs": [
    {
     "data": {
      "text/plain": [
       "[ 1 -1  1]\n",
       "[ 2  0 -1]\n",
       "[ 1  1  1]"
      ]
     },
     "execution_count": 11,
     "metadata": {},
     "output_type": "execute_result"
    }
   ],
   "source": [
    "# Sagan 1.9\n",
    "G.character_table()"
   ]
  }
 ],
 "metadata": {
  "kernelspec": {
   "display_name": "SageMath 10.6",
   "language": "sage",
   "name": "sagemath-10.6"
  },
  "language_info": {
   "codemirror_mode": {
    "name": "ipython",
    "version": 3
   },
   "file_extension": ".py",
   "mimetype": "text/x-python",
   "name": "python",
   "nbconvert_exporter": "python",
   "pygments_lexer": "ipython3",
   "version": "3.12.5"
  }
 },
 "nbformat": 4,
 "nbformat_minor": 5
}
